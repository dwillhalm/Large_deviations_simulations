{
 "cells": [
  {
   "cell_type": "code",
   "execution_count": 8,
   "metadata": {},
   "outputs": [],
   "source": [
    "import numpy as np\n",
    "import matplotlib.pyplot as plt\n",
    "import math\n",
    "import networkx as nx\n",
    "from scipy.spatial import distance\n",
    "import time\n",
    "from IPython.display import clear_output"
   ]
  },
  {
   "cell_type": "markdown",
   "metadata": {},
   "source": [
    "Let $X = \\{X_i\\}_{i \\ge 1}$ be a homogeneous Poisson point process with intensity 1 on $\\mathbb{R}^2$. The following function returns one realization of the Poisson points in a square. The size of the square is $n$ plus a value dependent on the distances of the points in the inner square. The array <code>x</code> conatains the points in the inner square and the array <code>z</code> the points in the outer envelope."
   ]
  },
  {
   "cell_type": "code",
   "execution_count": 9,
   "metadata": {},
   "outputs": [],
   "source": [
    "def onePath(n,intensity):\n",
    "    #Generate points in the inner square\n",
    "    numberOfPointsInInnerSquare = 0\n",
    "    while numberOfPointsInInnerSquare <= 1:\n",
    "        numberOfPointsInInnerSquare = np.random.poisson(n*n*intensity)\n",
    "    xCoordinates = np.random.uniform(0,n,numberOfPointsInInnerSquare)\n",
    "    yCoordinates = np.random.uniform(0,n,numberOfPointsInInnerSquare)\n",
    "    x = np.vstack((xCoordinates, yCoordinates)).T\n",
    "    \n",
    "    #Calculate the required length bounds for the outer square\n",
    "    addOnDistanceToSquare = 0\n",
    "    \n",
    "    #Divide the outer square setminus the inner square in 4 rectangles and generate points in each rectangle\n",
    "    numberOfPointsInOuterRectangles = []\n",
    "    for i in range(2):\n",
    "        numberOfPointsInOuterRectangles.append(np.random.poisson(n*addOnDistanceToSquare*intensity))\n",
    "    for i in range(2):\n",
    "        numberOfPointsInOuterRectangles.append(np.random.poisson((n+2*addOnDistanceToSquare)*addOnDistanceToSquare*intensity))\n",
    "    xCoordinates = np.random.uniform(-addOnDistanceToSquare,0,numberOfPointsInOuterRectangles[0])\n",
    "    yCoordinates = np.random.uniform(0,n,numberOfPointsInOuterRectangles[0])\n",
    "    xCoordinates = np.append(xCoordinates,np.random.uniform(n,n+addOnDistanceToSquare,numberOfPointsInOuterRectangles[1]))\n",
    "    yCoordinates = np.append(yCoordinates,np.random.uniform(0,n,numberOfPointsInOuterRectangles[1]))\n",
    "    xCoordinates = np.append(xCoordinates,np.random.uniform(-addOnDistanceToSquare,n+addOnDistanceToSquare,numberOfPointsInOuterRectangles[2]))\n",
    "    yCoordinates = np.append(yCoordinates,np.random.uniform(-addOnDistanceToSquare,0,numberOfPointsInOuterRectangles[2]))\n",
    "    xCoordinates = np.append(xCoordinates,np.random.uniform(-addOnDistanceToSquare,n+addOnDistanceToSquare,numberOfPointsInOuterRectangles[3]))\n",
    "    yCoordinates = np.append(yCoordinates,np.random.uniform(n,n+addOnDistanceToSquare,numberOfPointsInOuterRectangles[3]))\n",
    "    z = np.vstack((xCoordinates, yCoordinates)).T\n",
    "    return x, z"
   ]
  },
  {
   "cell_type": "markdown",
   "metadata": {},
   "source": [
    "Scatter of a random realization."
   ]
  },
  {
   "cell_type": "code",
   "execution_count": 10,
   "metadata": {},
   "outputs": [
    {
     "data": {
      "image/png": "[encoded data removed]",
      "text/plain": [
       "<Figure size 432x288 with 1 Axes>"
      ]
     },
     "metadata": {
      "needs_background": "light"
     },
     "output_type": "display_data"
    }
   ],
   "source": [
    "x,z = onePath(100,1.0/math.pow(100,0.8))\n",
    "plt.scatter(x.T[0],x.T[1])\n",
    "plt.scatter(z.T[0],z.T[1])\n",
    "plt.gcf().gca().set_aspect('equal')\n",
    "plt.grid()\n",
    "plt.show()"
   ]
  },
  {
   "cell_type": "markdown",
   "metadata": {},
   "source": [
    "Executing the function <code>onePath(n)</code> over some number of paths."
   ]
  },
  {
   "cell_type": "code",
   "execution_count": 11,
   "metadata": {},
   "outputs": [
    {
     "name": "stdout",
     "output_type": "stream",
     "text": [
      "current progress: 1 / 1\n",
      "Elapsed time: 0.8217296600341797 seconds\n"
     ]
    }
   ],
   "source": [
    "np.random.seed(1234)\n",
    "numberOfPaths = 1\n",
    "n = 100\n",
    "intensity = 1.0/math.pow(n,0.8)\n",
    "r = 5\n",
    "\n",
    "def rng(coordinates_inner, coordinates_outer):\n",
    "    g = nx.Graph()\n",
    "    for x, y in coordinates_inner:\n",
    "        g.add_node((x, y), x=x, y=y)\n",
    "    for x, y in coordinates_outer:\n",
    "        g.add_node((x, y), x=x, y=y)\n",
    "    \n",
    "    for x in g.nodes():\n",
    "        for y in g.nodes():\n",
    "            if 0<distance.chebyshev(x,y)<=r:\n",
    "                g.add_edge((x[0],x[1]), (y[0],y[1]), weight = 1)\n",
    " \n",
    "    return g\n",
    "\n",
    "\n",
    "# generate some random coordinates\n",
    "G = []\n",
    "start = time.time()\n",
    "for i in range(numberOfPaths):\n",
    "    clear_output(wait=True)\n",
    "    coordinates_inner, coordinates_outer = onePath(n, intensity)\n",
    "    G.append(rng(coordinates_inner, coordinates_outer))\n",
    "    print(\"current progress:\",i+1,\"/\",numberOfPaths)\n",
    "\n",
    "end = time.time()\n",
    "print(\"Elapsed time: \" + str(end - start) + \" seconds\")"
   ]
  },
  {
   "cell_type": "code",
   "execution_count": 12,
   "metadata": {},
   "outputs": [
    {
     "data": {
      "image/png": "[encoded data removed]",
      "text/plain": [
       "<Figure size 432x288 with 1 Axes>"
      ]
     },
     "metadata": {
      "needs_background": "light"
     },
     "output_type": "display_data"
    }
   ],
   "source": [
    "indexH = G.index(sorted(G)[len(G)-1])\n",
    "nodes = []\n",
    "edges = []\n",
    "for x in G[indexH].nodes():\n",
    "    nodes.append([x[0],x[1]])\n",
    "    \n",
    "plt.scatter([x[0] for x in nodes],[x[1] for x in nodes], color='black', s=10)\n",
    "plt.gcf().gca().set_aspect('equal')\n",
    "plt.grid()\n",
    "plt.xlim([-2.5, 12.5])\n",
    "plt.xticks(ticks=[-2,0, 2, 4, 6, 8, 10,12], labels =[\"\",-5,\"\",\"\",\"\",\"\",5,\"\"])\n",
    "plt.ylim([-2.5, 12.5])\n",
    "plt.yticks([-2,0, 2, 4, 6, 8, 10,12], labels =[\"\",-5,\"\",\"\",\"\",\"\",5,\"\"])\n",
    "plt.axvspan(10,13, color='grey', alpha=0.5, lw=0)\n",
    "plt.axvspan(-3,0, color='grey', alpha=0.5, lw=0)\n",
    "plt.axhspan(ymin=10, ymax=13, xmin=1/6, xmax=5/6, color='grey', alpha=0.5, lw=0)\n",
    "plt.axhspan(ymin=-3, ymax=0, xmin=1/6, xmax=5/6, color='grey', alpha=0.5, lw=0)\n",
    "\n",
    "for e1, e2 in G[indexH].edges():\n",
    "    edges.append([[e1[0],e1[1]],[e2[0],e2[1]]])\n",
    "    plt.plot([e1[0],e2[0]],[e1[1],e2[1]], color='black',lw=.5)\n",
    "    \n",
    "plt.show()"
   ]
  },
  {
   "cell_type": "markdown",
   "metadata": {},
   "source": [
    "Creating Tikz picture"
   ]
  },
  {
   "cell_type": "code",
   "execution_count": 13,
   "metadata": {},
   "outputs": [
    {
     "name": "stdout",
     "output_type": "stream",
     "text": [
      "^C\n"
     ]
    }
   ],
   "source": [
    "indexH = 0\n",
    "points = []\n",
    "edges = []\n",
    "for x in G[indexH].nodes():\n",
    "    points.append([x[0],x[1]])\n",
    "for e1, e2 in G[indexH].edges():\n",
    "    if e1[0] != e2[0] or e1[1] != e2[1]:\n",
    "        edges.append([[e1[0],e1[1]],[e2[0],e2[1]]])\n",
    "    \n",
    "borders_string = [\"\\\\fill[fill=gray!20] (-2.5,-2.5) rectangle ++(2.5,15);\\n\",\"\\\\fill[fill=gray!20] (0,-2.5) rectangle ++(10,2.5);\\n\",\n",
    "                  \"\\\\fill[fill=gray!20] (10,-2.5) rectangle ++(2.5,15);\\n\",\"\\\\fill[fill=gray!20] (0,10) rectangle ++(10,2.5);\\n\"]\n",
    "\n",
    "points_string = [\"\\\\fill ({0:1.2f}, {1:1.2f}) circle (2pt);\\n\".format(points[i][0], points[i][1])\n",
    "                 for i in range(len(points))]\n",
    "\n",
    "edges_string = [\"\\\\draw ({0:1.2f}, {1:1.2f}) -- ({2:1.2f}, {3:1.2f});\\n\".format(edges[i][0][0],edges[i][0][1],edges[i][1][0],edges[i][1][1])\n",
    "                for i in range(len(edges))]\n",
    "\n",
    "tikz = ''.join(borders_string + points_string + edges_string)\n",
    "tikz = '\\\\begin{tikzpicture}\\n' + tikz + '\\\\end{tikzpicture}\\n'\n",
    "\n",
    "fname = 'sparseGeometricGraphLessSparse.tex'\n",
    "\n",
    "f = open(fname, \"w\")\n",
    "f.write(tikz)\n",
    "f.close()\n",
    "\n",
    "!pdflatex evolFig.tex"
   ]
  },
  {
   "cell_type": "code",
   "execution_count": null,
   "metadata": {},
   "outputs": [],
   "source": []
  }
 ],
 "metadata": {
  "kernelspec": {
   "display_name": "Python 3",
   "language": "python",
   "name": "python3"
  },
  "language_info": {
   "codemirror_mode": {
    "name": "ipython",
    "version": 3
   },
   "file_extension": ".py",
   "mimetype": "text/x-python",
   "name": "python",
   "nbconvert_exporter": "python",
   "pygments_lexer": "ipython3",
   "version": "3.7.10"
  }
 },
 "nbformat": 4,
 "nbformat_minor": 4
}
