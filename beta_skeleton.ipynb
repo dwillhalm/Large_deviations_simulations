{
 "cells": [
  {
   "cell_type": "code",
   "execution_count": 80,
   "metadata": {},
   "outputs": [],
   "source": [
    "import numpy as np\n",
    "import matplotlib.pyplot as plt\n",
    "import math\n",
    "import networkx as nx\n",
    "from scipy.spatial import distance\n",
    "import time\n",
    "from IPython.display import clear_output\n",
    "from scipy.spatial import Delaunay"
   ]
  },
  {
   "cell_type": "markdown",
   "metadata": {},
   "source": [
    "Let $X = \\{X_i\\}_{i \\ge 1}$ be a homogeneous Poisson point process with intensity 1 on $\\mathbb{R}^2$. The following function returns one realization of the Poisson points in a square. The size of the square is $n$ plus a value dependent on the distances of the points in the inner square. The array <code>x</code> conatains the points in the inner square and the array <code>z</code> the points in the outer envelope."
   ]
  },
  {
   "cell_type": "code",
   "execution_count": 81,
   "metadata": {},
   "outputs": [],
   "source": [
    "def onePath(n):\n",
    "    #Generate points in the inner square\n",
    "    numberOfPointsInInnerSquare = 0\n",
    "    while numberOfPointsInInnerSquare <= 1:\n",
    "        numberOfPointsInInnerSquare = np.random.poisson(n*n)\n",
    "    xCoordinates = np.random.uniform(0,n,numberOfPointsInInnerSquare)\n",
    "    yCoordinates = np.random.uniform(0,n,numberOfPointsInInnerSquare)\n",
    "    x = np.vstack((xCoordinates, yCoordinates)).T\n",
    "    \n",
    "    #Calculate the required length bounds for the outer square\n",
    "    addOnDistanceToSquare = 2.25\n",
    "    \n",
    "    #Divide the outer square setminus the inner square in 4 rectangles and generate points in each rectangle\n",
    "    numberOfPointsInOuterRectangles = []\n",
    "    for i in range(2):\n",
    "        numberOfPointsInOuterRectangles.append(np.random.poisson(n*addOnDistanceToSquare))\n",
    "    for i in range(2):\n",
    "        numberOfPointsInOuterRectangles.append(np.random.poisson((n+2*addOnDistanceToSquare)*addOnDistanceToSquare))\n",
    "    xCoordinates = np.random.uniform(-addOnDistanceToSquare,0,numberOfPointsInOuterRectangles[0])\n",
    "    yCoordinates = np.random.uniform(0,n,numberOfPointsInOuterRectangles[0])\n",
    "    xCoordinates = np.append(xCoordinates,np.random.uniform(n,n+addOnDistanceToSquare,numberOfPointsInOuterRectangles[1]))\n",
    "    yCoordinates = np.append(yCoordinates,np.random.uniform(0,n,numberOfPointsInOuterRectangles[1]))\n",
    "    xCoordinates = np.append(xCoordinates,np.random.uniform(-addOnDistanceToSquare,n+addOnDistanceToSquare,numberOfPointsInOuterRectangles[2]))\n",
    "    yCoordinates = np.append(yCoordinates,np.random.uniform(-addOnDistanceToSquare,0,numberOfPointsInOuterRectangles[2]))\n",
    "    xCoordinates = np.append(xCoordinates,np.random.uniform(-addOnDistanceToSquare,n+addOnDistanceToSquare,numberOfPointsInOuterRectangles[3]))\n",
    "    yCoordinates = np.append(yCoordinates,np.random.uniform(n,n+addOnDistanceToSquare,numberOfPointsInOuterRectangles[3]))\n",
    "    z = np.vstack((xCoordinates, yCoordinates)).T\n",
    "    return x, z"
   ]
  },
  {
   "cell_type": "markdown",
   "metadata": {},
   "source": [
    "Scatter of a random realization."
   ]
  },
  {
   "cell_type": "code",
   "execution_count": 82,
   "metadata": {},
   "outputs": [
    {
     "data": {
      "image/png": "[encoded data removed]",
      "text/plain": [
       "<Figure size 432x288 with 1 Axes>"
      ]
     },
     "metadata": {
      "needs_background": "light"
     },
     "output_type": "display_data"
    }
   ],
   "source": [
    "x,z = onePath(10)\n",
    "plt.scatter(x.T[0],x.T[1])\n",
    "plt.scatter(z.T[0],z.T[1])\n",
    "plt.gcf().gca().set_aspect('equal')\n",
    "plt.grid()\n",
    "plt.show()"
   ]
  },
  {
   "cell_type": "markdown",
   "metadata": {},
   "source": [
    "Executing the function <code>onePath(n)</code> over some number of paths."
   ]
  },
  {
   "cell_type": "code",
   "execution_count": 83,
   "metadata": {},
   "outputs": [
    {
     "name": "stdout",
     "output_type": "stream",
     "text": [
      "0.0\n",
      "0.06103408912271393\n"
     ]
    }
   ],
   "source": [
    "def getAngle(x,y,z):\n",
    "    if x==y or y==z:\n",
    "        return 0.0\n",
    "    d1 = distance.euclidean(x, y)\n",
    "    d2 = distance.euclidean(y, z)\n",
    "    d3 = distance.euclidean(x, z)\n",
    "    return np.arccos((d1*d1 + d2*d2 - d3*d3) / (2 * d1 * d2))\n",
    "print(getAngle([0,0],[0,0],[1,1]))\n",
    "print(getAngle([5.830050050815052, 2.9531859804581027],[8.355233238379911, 0.3859873026276939],[4.460025277218241, 3.890260717389747]))"
   ]
  },
  {
   "cell_type": "code",
   "execution_count": 84,
   "metadata": {},
   "outputs": [
    {
     "name": "stdout",
     "output_type": "stream",
     "text": [
      "current progress: 10 / 10\n",
      "Elapsed time: 24.303217887878418 seconds\n",
      "0.9851107833377457\n"
     ]
    }
   ],
   "source": [
    "np.random.seed(1234)\n",
    "numberOfPaths = 10\n",
    "n = 10\n",
    "alpha = 15\n",
    "beta = 1.2\n",
    "\n",
    "def rng(coordinates_inner, coordinates_outer):\n",
    "    g = nx.Graph()\n",
    "    for x, y in coordinates_inner:\n",
    "        g.add_node((x, y), x=x, y=y)\n",
    "    for x, y in coordinates_outer:\n",
    "        g.add_node((x, y), x=x, y=y)\n",
    "    nodes = []\n",
    "    for x in g.nodes():\n",
    "        nodes.append([x[0],x[1]])\n",
    "    \n",
    "    delaunay = Delaunay(nodes)\n",
    "    \n",
    "    for triangles in delaunay.simplices:\n",
    "        potentialEdges = []\n",
    "        for j in range(3):\n",
    "            potentialEdges.append(nodes[triangles[j]])\n",
    "        for j in range(3):\n",
    "            c1 = potentialEdges[j % 3]\n",
    "            c2 = potentialEdges[(j+1) % 3]\n",
    "            g.add_edge((c1[0],c1[1]), (c2[0],c2[1]), weight = 0)\n",
    " \n",
    "    h = g.copy()\n",
    "    for c1,c2 in g.edges():\n",
    "        d = distance.euclidean(c1, c2)\n",
    "        for possible_blocker in h.nodes():\n",
    "            angleC1blockerC2 = getAngle(c1,possible_blocker,c2)\n",
    "            if angleC1blockerC2 > np.arcsin(1/beta):\n",
    "                # this node blocks the edge\n",
    "                h.remove_edge(c1, c2)\n",
    "                break\n",
    "            else:\n",
    "                if c1 in coordinates_inner:\n",
    "                    h.remove_edge(c1, c2)\n",
    "                    h.add_edge(c1, c2, weight = d**alpha)\n",
    "    return h\n",
    "\n",
    "\n",
    "# generate some random coordinates\n",
    "G = []\n",
    "start = time.time()\n",
    "for i in range(numberOfPaths):\n",
    "    clear_output(wait=True)\n",
    "    coordinates_inner, coordinates_outer = onePath(n)\n",
    "    G.append(rng(coordinates_inner, coordinates_outer))\n",
    "    print(\"current progress:\",i+1,\"/\",numberOfPaths)\n",
    "\n",
    "H = []\n",
    "for i in range(numberOfPaths):\n",
    "    H.append(G[i].size(weight=\"weight\"))\n",
    "\n",
    "end = time.time()\n",
    "print(\"Elapsed time: \" + str(end - start) + \" seconds\")\n",
    "print(np.arcsin(1/beta))"
   ]
  },
  {
   "cell_type": "code",
   "execution_count": 85,
   "metadata": {},
   "outputs": [
    {
     "data": {
      "image/png": "[encoded data removed]",
      "text/plain": [
       "<Figure size 432x288 with 1 Axes>"
      ]
     },
     "metadata": {
      "needs_background": "light"
     },
     "output_type": "display_data"
    }
   ],
   "source": [
    "indexH = H.index(sorted(H)[len(H)-1])\n",
    "nodes = []\n",
    "edges = []\n",
    "for x in G[indexH].nodes():\n",
    "    nodes.append([x[0],x[1]])\n",
    "    \n",
    "plt.scatter([x[0] for x in nodes],[x[1] for x in nodes], color='black', s=10)\n",
    "plt.gcf().gca().set_aspect('equal')\n",
    "plt.grid()\n",
    "plt.xlim([-2.5, 12.5])\n",
    "plt.xticks(ticks=[-2,0, 2, 4, 6, 8, 10,12], labels =[\"\",-5,\"\",\"\",\"\",\"\",5,\"\"])\n",
    "plt.ylim([-2.5, 12.5])\n",
    "plt.yticks([-2,0, 2, 4, 6, 8, 10,12], labels =[\"\",-5,\"\",\"\",\"\",\"\",5,\"\"])\n",
    "plt.axvspan(10,13, color='grey', alpha=0.5, lw=0)\n",
    "plt.axvspan(-3,0, color='grey', alpha=0.5, lw=0)\n",
    "plt.axhspan(ymin=10, ymax=13, xmin=1/6, xmax=5/6, color='grey', alpha=0.5, lw=0)\n",
    "plt.axhspan(ymin=-3, ymax=0, xmin=1/6, xmax=5/6, color='grey', alpha=0.5, lw=0)\n",
    "\n",
    "for e1, e2 in G[indexH].edges():\n",
    "    edges.append([[e1[0],e1[1]],[e2[0],e2[1]]])\n",
    "    plt.plot([e1[0],e2[0]],[e1[1],e2[1]], color='black',lw=.5)\n",
    "    \n",
    "plt.show()"
   ]
  },
  {
   "cell_type": "markdown",
   "metadata": {},
   "source": [
    "Creating Tikz picture"
   ]
  },
  {
   "cell_type": "code",
   "execution_count": 86,
   "metadata": {},
   "outputs": [
    {
     "name": "stdout",
     "output_type": "stream",
     "text": [
      "2\n",
      "1.7031856800600191\n",
      "52.16306826419872\n",
      "((6.104546867972955, 1.0435521933184877), (7.149308631889157, 2.388659741962913))\n",
      "1\n",
      "1.3909251818864565\n",
      "186.79844991581894\n",
      "((4.952138790321701, 1.374101207316113), (3.5709936052931512, 1.2094475117052195))\n",
      "2\n",
      "1.2961379594861624\n",
      "79.28534212191892\n",
      "((4.952138790321701, 1.374101207316113), (5.193114153738783, 2.6476413457675707))\n",
      "/bin/bash: pdflatex: command not found\n"
     ]
    }
   ],
   "source": [
    "indexH = H.index(sorted(H)[len(H)-2])\n",
    "points = []\n",
    "edges = []\n",
    "for x in G[indexH].nodes():\n",
    "    points.append([x[0],x[1]])\n",
    "for e1, e2 in G[indexH].edges():\n",
    "    if e1[0] != e2[0] or e1[1] != e2[1]:\n",
    "        edges.append([[e1[0],e1[1]],[e2[0],e2[1]]])\n",
    "\n",
    "numberOfLenses = 3\n",
    "starts = []\n",
    "radii = []\n",
    "angles = []\n",
    "F = G[indexH].copy()\n",
    "for i in range(numberOfLenses):\n",
    "    maxEdge = None\n",
    "    maxWeight = 0\n",
    "    for e in F.edges():\n",
    "        weight = F.get_edge_data(*e)[\"weight\"]\n",
    "        if weight > maxWeight:\n",
    "            maxWeight = weight\n",
    "            maxEdge = e\n",
    "    maxWeight = maxWeight**(1/alpha)\n",
    "    if maxEdge[0][0] - maxEdge[1][0] >= 0 and maxEdge[0][1] - maxEdge[1][1] >= 0:\n",
    "        print(\"1\")\n",
    "        angles.append(np.arccos((maxEdge[0][0]-maxEdge[1][0])/maxWeight)*360/(2*math.pi)+180)\n",
    "        starts.append([maxEdge[0][0]+maxWeight*np.cos((angles[i]-60)/360*2*math.pi),maxEdge[0][1]+maxWeight*np.sin((angles[i]-60)/360*2*math.pi)])\n",
    "        radii.append(maxWeight)\n",
    "    elif maxEdge[0][0] - maxEdge[1][0] < 0 and maxEdge[0][1] - maxEdge[1][1] < 0:\n",
    "        print(\"2\")\n",
    "        angles.append(np.arccos(-(maxEdge[0][0]-maxEdge[1][0])/maxWeight)*360/(2*math.pi))\n",
    "        starts.append([maxEdge[0][0]+maxWeight*np.cos((angles[i]-60)/360*2*math.pi),maxEdge[0][1]+maxWeight*np.sin((angles[i]-60)/360*2*math.pi)])\n",
    "        radii.append(maxWeight)\n",
    "    elif maxEdge[0][0] - maxEdge[1][0] >= 0 and maxEdge[0][1] - maxEdge[1][1] < 0:\n",
    "        print(\"3\")\n",
    "        angles.append(180-np.arccos((maxEdge[0][0]-maxEdge[1][0])/maxWeight)*360/(2*math.pi))\n",
    "        starts.append([maxEdge[0][0]+maxWeight*np.cos((angles[i]-60)/360*2*math.pi),maxEdge[0][1]+maxWeight*np.sin((angles[i]-60)/360*2*math.pi)])\n",
    "        radii.append(maxWeight)\n",
    "    else:\n",
    "        print(\"4\")\n",
    "        angles.append(-(np.arccos(-(maxEdge[0][0]-maxEdge[1][0])/maxWeight)*360/(2*math.pi)))\n",
    "        starts.append([maxEdge[0][0]+maxWeight*np.cos((angles[i]-60)/360*2*math.pi),maxEdge[0][1]+maxWeight*np.sin((angles[i]-60)/360*2*math.pi)])\n",
    "        radii.append(maxWeight)\n",
    "    print(maxWeight)\n",
    "    print(angles[i])\n",
    "    print(maxEdge)\n",
    "    F.remove_edge(*maxEdge)\n",
    "    \n",
    "borders_string = [\"\\\\fill[fill=gray!20] (-2.5,-2.5) rectangle ++(2.5,15);\\n\",\"\\\\fill[fill=gray!20] (0,-2.5) rectangle ++(10,2.5);\\n\",\n",
    "                  \"\\\\fill[fill=gray!20] (10,-2.5) rectangle ++(2.5,15);\\n\",\"\\\\fill[fill=gray!20] (0,10) rectangle ++(10,2.5);\\n\"]\n",
    "\n",
    "points_string = [\"\\\\fill ({0:1.2f}, {1:1.2f}) circle (2pt);\\n\".format(points[i][0], points[i][1])\n",
    "                 for i in range(len(points))]\n",
    "\n",
    "edges_string = [\"\\\\draw ({0:1.2f}, {1:1.2f}) -- ({2:1.2f}, {3:1.2f});\\n\".format(edges[i][0][0],edges[i][0][1],edges[i][1][0],edges[i][1][1])\n",
    "                for i in range(len(edges))]\n",
    "\n",
    "lenses_string = [\"\\draw[red] ({1:1.2f},{2:1.2f}) arc[start angle={0:1.2f}-60,delta angle=2*60,radius={3:1.2f}] arc[start angle=180+{0:1.2f}-60,delta angle=2*60,radius={3:1.2f}] -- cycle;\\n\".format(angles[i], starts[i][0], starts[i][1], radii[i])\n",
    "                for i in range(len(radii))]\n",
    "\n",
    "tikz = ''.join(borders_string + points_string + edges_string + lenses_string)\n",
    "tikz = '\\\\begin{tikzpicture}\\n' + tikz + '\\\\end{tikzpicture}\\n'\n",
    "\n",
    "fname = 'largeBetaSkeleton.tex'\n",
    "\n",
    "f = open(fname, \"w\")\n",
    "f.write(tikz)\n",
    "f.close()\n",
    "\n",
    "!pdflatex evolFig.tex"
   ]
  },
  {
   "cell_type": "code",
   "execution_count": 87,
   "metadata": {},
   "outputs": [
    {
     "name": "stdout",
     "output_type": "stream",
     "text": [
      "3\n",
      "1.493351532160501\n",
      "117.54914618810548\n",
      "((4.830528751765231, 5.8731822339051165), (4.139839797641373, 7.197209260539168))\n",
      "3\n",
      "1.2368861526791317\n",
      "124.81345398012567\n",
      "((9.54565783825497, 2.424308563800346), (8.839511653331675, 3.439810863259909))\n",
      "1\n",
      "1.1848687620436469\n",
      "245.64736452018076\n",
      "((0.39883652605349207, 5.794934352195878), (-0.08974583407528458, 4.715489466785864))\n",
      "/bin/bash: pdflatex: command not found\n"
     ]
    }
   ],
   "source": [
    "indexH = 1\n",
    "points = []\n",
    "edges = []\n",
    "for x in G[indexH].nodes():\n",
    "    points.append([x[0],x[1]])\n",
    "for e1, e2 in G[indexH].edges():\n",
    "    if e1[0] != e2[0] or e1[1] != e2[1]:\n",
    "        edges.append([[e1[0],e1[1]],[e2[0],e2[1]]])\n",
    "\n",
    "numberOfLenses = 3\n",
    "starts = []\n",
    "radii = []\n",
    "angles = []\n",
    "F = G[indexH].copy()\n",
    "for i in range(numberOfLenses):\n",
    "    maxEdge = None\n",
    "    maxWeight = 0\n",
    "    for e in F.edges():\n",
    "        weight = F.get_edge_data(*e)[\"weight\"]\n",
    "        if weight > maxWeight:\n",
    "            maxWeight = weight\n",
    "            maxEdge = e\n",
    "    maxWeight = maxWeight**(1/alpha)\n",
    "    if maxEdge[0][0] - maxEdge[1][0] >= 0 and maxEdge[0][1] - maxEdge[1][1] >= 0:\n",
    "        print(\"1\")\n",
    "        angles.append(np.arccos((maxEdge[0][0]-maxEdge[1][0])/maxWeight)*360/(2*math.pi)+180)\n",
    "        starts.append([maxEdge[0][0]+maxWeight*np.cos((angles[i]-60)/360*2*math.pi),maxEdge[0][1]+maxWeight*np.sin((angles[i]-60)/360*2*math.pi)])\n",
    "        radii.append(maxWeight)\n",
    "    elif maxEdge[0][0] - maxEdge[1][0] < 0 and maxEdge[0][1] - maxEdge[1][1] < 0:\n",
    "        print(\"2\")\n",
    "        angles.append(np.arccos(-(maxEdge[0][0]-maxEdge[1][0])/maxWeight)*360/(2*math.pi))\n",
    "        starts.append([maxEdge[0][0]+maxWeight*np.cos((angles[i]-60)/360*2*math.pi),maxEdge[0][1]+maxWeight*np.sin((angles[i]-60)/360*2*math.pi)])\n",
    "        radii.append(maxWeight)\n",
    "    elif maxEdge[0][0] - maxEdge[1][0] >= 0 and maxEdge[0][1] - maxEdge[1][1] < 0:\n",
    "        print(\"3\")\n",
    "        angles.append(180-np.arccos((maxEdge[0][0]-maxEdge[1][0])/maxWeight)*360/(2*math.pi))\n",
    "        starts.append([maxEdge[0][0]+maxWeight*np.cos((angles[i]-60)/360*2*math.pi),maxEdge[0][1]+maxWeight*np.sin((angles[i]-60)/360*2*math.pi)])\n",
    "        radii.append(maxWeight)\n",
    "    else:\n",
    "        print(\"4\")\n",
    "        angles.append(-(np.arccos(-(maxEdge[0][0]-maxEdge[1][0])/maxWeight)*360/(2*math.pi)))\n",
    "        starts.append([maxEdge[0][0]+maxWeight*np.cos((angles[i]-60)/360*2*math.pi),maxEdge[0][1]+maxWeight*np.sin((angles[i]-60)/360*2*math.pi)])\n",
    "        radii.append(maxWeight)\n",
    "    print(maxWeight)\n",
    "    print(angles[i])\n",
    "    print(maxEdge)\n",
    "    F.remove_edge(*maxEdge)\n",
    "    \n",
    "borders_string = [\"\\\\fill[fill=gray!20] (-2.5,-2.5) rectangle ++(2.5,15);\\n\",\"\\\\fill[fill=gray!20] (0,-2.5) rectangle ++(10,2.5);\\n\",\n",
    "                  \"\\\\fill[fill=gray!20] (10,-2.5) rectangle ++(2.5,15);\\n\",\"\\\\fill[fill=gray!20] (0,10) rectangle ++(10,2.5);\\n\"]\n",
    "\n",
    "points_string = [\"\\\\fill ({0:1.2f}, {1:1.2f}) circle (2pt);\\n\".format(points[i][0], points[i][1])\n",
    "                 for i in range(len(points))]\n",
    "\n",
    "edges_string = [\"\\\\draw ({0:1.2f}, {1:1.2f}) -- ({2:1.2f}, {3:1.2f});\\n\".format(edges[i][0][0],edges[i][0][1],edges[i][1][0],edges[i][1][1])\n",
    "                for i in range(len(edges))]\n",
    "\n",
    "lenses_string = [\"\\draw[red] ({1:1.2f},{2:1.2f}) arc[start angle={0:1.2f}-60,delta angle=2*60,radius={3:1.2f}] arc[start angle=180+{0:1.2f}-60,delta angle=2*60,radius={3:1.2f}] -- cycle;\\n\".format(angles[i], starts[i][0], starts[i][1], radii[i])\n",
    "                for i in range(len(radii))]\n",
    "\n",
    "tikz = ''.join(borders_string + points_string + edges_string + lenses_string)\n",
    "tikz = '\\\\begin{tikzpicture}\\n' + tikz + '\\\\end{tikzpicture}\\n'\n",
    "\n",
    "fname = 'typicalBetaSkeleton.tex'\n",
    "\n",
    "f = open(fname, \"w\")\n",
    "f.write(tikz)\n",
    "f.close()\n",
    "\n",
    "!pdflatex evolFig.tex"
   ]
  },
  {
   "cell_type": "code",
   "execution_count": null,
   "metadata": {},
   "outputs": [],
   "source": []
  }
 ],
 "metadata": {
  "kernelspec": {
   "display_name": "Python 3 (ipykernel)",
   "language": "python",
   "name": "python3"
  },
  "language_info": {
   "codemirror_mode": {
    "name": "ipython",
    "version": 3
   },
   "file_extension": ".py",
   "mimetype": "text/x-python",
   "name": "python",
   "nbconvert_exporter": "python",
   "pygments_lexer": "ipython3",
   "version": "3.9.7"
  }
 },
 "nbformat": 4,
 "nbformat_minor": 4
}
