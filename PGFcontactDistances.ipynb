{
 "cells": [
  {
   "cell_type": "code",
   "execution_count": 1,
   "id": "a4a988e6-2d51-4a31-abc4-782cc88184ff",
   "metadata": {},
   "outputs": [
    {
     "name": "stdout",
     "output_type": "stream",
     "text": [
      "current progress: row 51 / 51 and column 51 / 51\n",
      "Elapsed time: 23.915783405303955 seconds\n"
     ]
    }
   ],
   "source": [
    "import numpy as np\n",
    "import time\n",
    "from IPython.display import clear_output\n",
    "import matplotlib.pyplot as plt\n",
    "\n",
    "# Fix seed\n",
    "np.random.seed(123)\n",
    "\n",
    "# Generate a set of 10 nodes in [0,1]^2\n",
    "intensity = 15 # lambda parameter for Poisson distribution\n",
    "poisson_var = np.random.poisson(intensity)\n",
    "nodes = np.random.rand(poisson_var, 2)\n",
    "grid = 51\n",
    "stepsize = 1.0/(grid-1)\n",
    "\n",
    "# Toroidal distance\n",
    "def toroidal_distance(point1, point2, size):\n",
    "    diff = np.array([]).reshape(0,2)\n",
    "    for i in range(3):\n",
    "        for j in range(3):\n",
    "            diff = np.vstack([diff, np.abs(point1 + np.array([(i-1)*size, (j-1)*size]) - point2)])\n",
    "    return np.min(np.linalg.norm(diff, axis=1))\n",
    "\n",
    "# Define a function that calculates the distance from each point in [0,1]^2 to the closest node of the sampled set\n",
    "def distance_to_nodes(x, y):\n",
    "    distances = np.array([]).reshape(0,1)\n",
    "    for node in nodes:\n",
    "        distances = np.vstack([distances, toroidal_distance(np.array([x,y]), node, 1)])\n",
    "    return np.min(distances)\n",
    "\n",
    "# Evaluate the function at each point in [0,1]^2\n",
    "x = np.linspace(0, 1, grid)\n",
    "y = np.linspace(0, 1, grid)\n",
    "Z = np.zeros((grid, grid))\n",
    "start = time.time()\n",
    "for i in range(grid):\n",
    "    for j in range(grid):\n",
    "        clear_output(wait=True)\n",
    "        Z[i,j] = distance_to_nodes(x[i], y[j])\n",
    "        print(\"current progress: row\",i+1,\"/\",grid,\"and column\",j+1,\"/\",grid)\n",
    "\n",
    "end = time.time()\n",
    "print(\"Elapsed time: \" + str(end - start) + \" seconds\")"
   ]
  },
  {
   "cell_type": "code",
   "execution_count": 2,
   "id": "32c8d56f-ec5f-43d4-82f2-9209d7e31327",
   "metadata": {},
   "outputs": [
    {
     "data": {
      "image/png": "[encoded data removed]",
      "text/plain": [
       "<Figure size 432x288 with 2 Axes>"
      ]
     },
     "metadata": {
      "needs_background": "light"
     },
     "output_type": "display_data"
    }
   ],
   "source": [
    "# Plot the function as a contour plot\n",
    "X,Y = np.meshgrid(x,y)\n",
    "plt.contourf(Y, X, Z, levels=20, cmap='viridis')\n",
    "plt.colorbar()\n",
    "plt.scatter(nodes[:,0], nodes[:,1], c='red', marker='o')\n",
    "plt.show()"
   ]
  },
  {
   "cell_type": "code",
   "execution_count": 3,
   "id": "331b71cc-9d20-4134-8601-2006075b2253",
   "metadata": {},
   "outputs": [],
   "source": [
    "fileContents = \"\"\n",
    "\n",
    "for j in range(grid):\n",
    "    for i in range(grid):\n",
    "        fileContents = fileContents + \"{0:1.4f} {1:1.4f} {2:1.4f}\\n\".format(x[i], y[j], Z[i,j])\n",
    "        \n",
    "#for i in range(len(nodes)):\n",
    "#    tikz = tikz + \"\\\\fill[red] ({0:1.4f}, {1:1.4f}) circle (0.01);\\n\".format(nodes[i,0],nodes[i,1])\n",
    "\n",
    "# Open the output TikZ file\n",
    "with open('contact_distances.txt', 'w') as f:\n",
    "    # Write the txt for the plot\n",
    "    f.write(fileContents)"
   ]
  },
  {
   "cell_type": "code",
   "execution_count": 4,
   "id": "b692b41f-eeb4-43ed-9bf0-98380ea5849f",
   "metadata": {},
   "outputs": [
    {
     "name": "stdout",
     "output_type": "stream",
     "text": [
      "(0.2269, 0.5513, 0) (0.7195, 0.4231, 0) (0.9808, 0.6848, 0) (0.4809, 0.3921, 0) (0.3432, 0.7290, 0) (0.4386, 0.0597, 0) (0.3980, 0.7380, 0) (0.1825, 0.1755, 0) (0.5316, 0.5318, 0) (0.6344, 0.8494, 0) (0.7245, 0.6110, 0) (0.7224, 0.3230, 0) (0.3618, 0.2283, 0) (0.2937, 0.6310, 0) (0.0921, 0.4337, 0) (0.4309, 0.4937, 0) (0.4258, 0.3123, 0)\n"
     ]
    }
   ],
   "source": [
    "nodesString = \"\"\n",
    "\n",
    "for i in range(len(nodes)-1):\n",
    "    nodesString = nodesString + \"({0:1.4f}, {1:1.4f}, 0) \".format(nodes[i,0], nodes[i,1])\n",
    "nodesString = nodesString + \"({0:1.4f}, {1:1.4f}, 0)\".format(nodes[len(nodes)-1,0], nodes[len(nodes)-1,1])\n",
    "print(nodesString)"
   ]
  },
  {
   "cell_type": "code",
   "execution_count": null,
   "id": "0b9447f6-9cc8-4b9a-84f7-6854c5ee3be8",
   "metadata": {},
   "outputs": [],
   "source": []
  }
 ],
 "metadata": {
  "kernelspec": {
   "display_name": "Python 3",
   "language": "python",
   "name": "python3"
  },
  "language_info": {
   "codemirror_mode": {
    "name": "ipython",
    "version": 3
   },
   "file_extension": ".py",
   "mimetype": "text/x-python",
   "name": "python",
   "nbconvert_exporter": "python",
   "pygments_lexer": "ipython3",
   "version": "3.7.10"
  }
 },
 "nbformat": 4,
 "nbformat_minor": 5
}
