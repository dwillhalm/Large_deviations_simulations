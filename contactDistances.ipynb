{
 "cells": [
  {
   "cell_type": "code",
   "execution_count": 2,
   "id": "a4a988e6-2d51-4a31-abc4-782cc88184ff",
   "metadata": {},
   "outputs": [
    {
     "name": "stdout",
     "output_type": "stream",
     "text": [
      "current progress: row 100 / 100 and column 100 / 100\n",
      "Elapsed time: 97.73943209648132 seconds\n"
     ]
    }
   ],
   "source": [
    "import numpy as np\n",
    "import time\n",
    "from IPython.display import clear_output\n",
    "import matplotlib.pyplot as plt\n",
    "\n",
    "# Fix seed\n",
    "np.random.seed(123)\n",
    "\n",
    "# Generate a set of 10 nodes in [0,1]^2\n",
    "intensity = 15 # lambda parameter for Poisson distribution\n",
    "poisson_var = np.random.poisson(intensity)\n",
    "nodes = np.random.rand(poisson_var, 2)\n",
    "grid = 100\n",
    "stepsize = 1.0/grid\n",
    "\n",
    "# Toroidal distance\n",
    "def toroidal_distance(point1, point2, size):\n",
    "    diff = np.array([]).reshape(0,2)\n",
    "    for i in range(3):\n",
    "        for j in range(3):\n",
    "            diff = np.vstack([diff, np.abs(point1 + np.array([(i-1)*size, (j-1)*size]) - point2)])\n",
    "    return np.min(np.linalg.norm(diff, axis=1))\n",
    "\n",
    "# Define a function that calculates the distance from each point in [0,1]^2 to the closest node of the sampled set\n",
    "def distance_to_nodes(x, y):\n",
    "    distances = np.array([]).reshape(0,1)\n",
    "    for node in nodes:\n",
    "        distances = np.vstack([distances, toroidal_distance(np.array([x,y]), node, 1)])\n",
    "    return np.min(distances)\n",
    "\n",
    "# Evaluate the function at each point in [0,1]^2\n",
    "x = np.linspace(0, 1, grid, endpoint=False)\n",
    "y = np.linspace(0, 1, grid, endpoint=False)\n",
    "x = x + stepsize*0.5\n",
    "y = y + stepsize*0.5\n",
    "Z = np.zeros((grid, grid))\n",
    "start = time.time()\n",
    "for i in range(grid):\n",
    "    for j in range(grid):\n",
    "        clear_output(wait=True)\n",
    "        Z[i,j] = distance_to_nodes(x[i], y[j])\n",
    "        print(\"current progress: row\",i+1,\"/\",grid,\"and column\",j+1,\"/\",grid)\n",
    "\n",
    "end = time.time()\n",
    "print(\"Elapsed time: \" + str(end - start) + \" seconds\")"
   ]
  },
  {
   "cell_type": "code",
   "execution_count": 3,
   "id": "32c8d56f-ec5f-43d4-82f2-9209d7e31327",
   "metadata": {},
   "outputs": [
    {
     "data": {
      "image/png": "[encoded data removed]",
      "text/plain": [
       "<Figure size 432x288 with 2 Axes>"
      ]
     },
     "metadata": {
      "needs_background": "light"
     },
     "output_type": "display_data"
    }
   ],
   "source": [
    "# Plot the function as a contour plot\n",
    "X,Y = np.meshgrid(x,y)\n",
    "plt.contourf(Y, X, Z, levels=20, cmap='viridis')\n",
    "plt.colorbar()\n",
    "plt.scatter(nodes[:,0], nodes[:,1], c='red', marker='o')\n",
    "plt.show()"
   ]
  },
  {
   "cell_type": "code",
   "execution_count": 9,
   "id": "331b71cc-9d20-4134-8601-2006075b2253",
   "metadata": {},
   "outputs": [],
   "source": [
    "tikz = \"\"\n",
    "\n",
    "maximum = np.max(Z)\n",
    "Color = np.zeros_like(Z)\n",
    "squaresize = stepsize*0.5\n",
    "\n",
    "for i in range(grid):\n",
    "    for j in range(grid):\n",
    "        Color[i,j] = np.multiply(np.divide(Z[i,j], maximum),100)\n",
    "        tikz = tikz + \"\\\\filldraw[color=black!{0:1.4f}!white, \".format(Color[i,j]) + \"shift={\" + \"({0:1.4f}, {1:1.4f})\".format(x[i], y[j]) + \"}] (-\" + str(squaresize) + \", -\" + str(squaresize) + \") rectangle (\" + str(squaresize) + \", \" + str(squaresize) + \");\\n\"\n",
    "        \n",
    "for i in range(len(nodes)):\n",
    "    tikz = tikz + \"\\\\fill[red] ({0:1.4f}, {1:1.4f}) circle (0.008);\\n\".format(nodes[i,0],nodes[i,1])\n",
    "\n",
    "# Open the output TikZ file\n",
    "with open('contact_distances.tex', 'w') as f:\n",
    "    # Write the TikZ code for the plot\n",
    "    f.write(tikz)"
   ]
  },
  {
   "cell_type": "code",
   "execution_count": null,
   "id": "edb41c42-38dc-4a89-8dee-370bed52b506",
   "metadata": {},
   "outputs": [],
   "source": []
  }
 ],
 "metadata": {
  "kernelspec": {
   "display_name": "Python 3 (ipykernel)",
   "language": "python",
   "name": "python3"
  },
  "language_info": {
   "codemirror_mode": {
    "name": "ipython",
    "version": 3
   },
   "file_extension": ".py",
   "mimetype": "text/x-python",
   "name": "python",
   "nbconvert_exporter": "python",
   "pygments_lexer": "ipython3",
   "version": "3.9.7"
  }
 },
 "nbformat": 4,
 "nbformat_minor": 5
}
